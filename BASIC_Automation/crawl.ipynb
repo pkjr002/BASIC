{
 "cells": [
  {
   "cell_type": "code",
   "execution_count": null,
   "metadata": {},
   "outputs": [],
   "source": [
    "# ++++++++++++++++++++++++++++++++++++++++++++++++++++++++++++++++++++++++++++++++++++++++++++++++++\n",
    "# Request data table from a URL\n",
    "def get_table(this_URL, IDX ):\n",
    "\n",
    "    url = this_URL\n",
    "    # get HTML content\n",
    "    response = requests.get(url)\n",
    "    html_content = response.text\n",
    "    soup = BeautifulSoup(html_content, 'html.parser')\n",
    "    \n",
    "    # display(HTML(str(soup)))\n",
    "    \n",
    "    # specific table:\n",
    "    tables = soup.find_all('table')\n",
    "    display(HTML(str(tables[IDX])))  # Adjust index as necessary"
   ]
  },
  {
   "cell_type": "code",
   "execution_count": 2,
   "metadata": {},
   "outputs": [
    {
     "data": {
      "text/plain": [
       "\"Uncertainty 101: Understanding and Managing Climate Models | ClimateWest Skip to content About About ClimateWest Our People Careers Get Started Sectors Resources Publications Climate Portals News & Articles Adaptation in Action Program Services Training Alberta Saskatchewan Manitoba Events Upcoming Events Event Recordings Help Desk 204-995-6514 info@climatewest.ca Twitter - Opens in a new window Linkedin - Opens in a new window 27 Sep, 2022 Uncertainty 101: Understanding and Managing Climate Models Share Share on Facebook - Opens in a new window Share on Twitter - Opens in a new window Share on LinkedIn - Opens in a new window Numerical modelling of the earth’s climate, achieved through what we know as climate models, is the only reliable way to determine the amount of global warming we can expect. Climate models—computer programs that simulate weather patterns over time—can help us understand and measure climate trends due to human activity over decades under different conditions. While these models are incredible sources of data and instrumental in helping us prepare for future climate risks, all climate models have a level of uncertainty. Manitoba, Saskatchewan, and Alberta present unique challenges for detecting and communicating climate change as well as managing uncertainty. Those living across the Prairies know that variability is a part of life and have been adapting to the shifts in weather between seasons for generations— but the Prairies are also one of the fastest warming regions in Canada due to human-caused climate change . Coinciding with this challenge, climate projections of precipitation and related variables at a regional scale are the least certain for middle latitudes and continental interiors like the Canadian Prairies. In these regions, natural variability tends to obscure trends in climate variables – like temperature, relative humidity, precipitation, wind, waves and tides – meaning that it’s more difficult to determine future changes and risks. To help navigate these challenges, we’ve released the Uncertainty Primer : a guide to the different types of uncertainty and how they can be managed. Recognizing, understanding, and accounting for uncertainty can inform robust adaptation and decision-making, and help prepare for the future. Figure 1: Minimum winter temperature (°C) at Regina from 1951 to 2096 from 24 Global Climate Models (GCMs). Each coloured line represents output from a different\\xa0 GCMs. The bold black curve is the multi-model mean value. Source: Climate Atlas of Canada. What is uncertainty in climate modelling? Using models to predict the climate requires estimates of future concentrations of greenhouse gases (GHGs) based on analyses of the social, political, and economic factors that determine emissions and land use change. However, models, emissions scenarios, and internal climate variability can cause varying amounts of uncertainty depending on the size and location of the region, the climate variable, and the timeline. These factors encompass the term, “uncertainty” when looking at climate modelling—however to better understand uncertainty, it’s helpful to examine each type individually. The Types of Uncertainty There are three types of uncertainty: model uncertainty, scenario uncertainty, and internal variability. 1. Model Uncertainty The uncertainty seen in climate modelling stems from two main sources: inter-model variability and intra-model variability. Inter-model variability includes the many different global climate models (GCMs) developed to project future climate scenarios, each yielding unique projections based on their assumptions when provided with the same initial conditions, such as air pressure and temperature. As a number of GCMs are often used—up to a dozen, depending on the application—and compared, an inter-model average is established to reduce “noise” and/or better communicate the results. See Figure 1, for example. The second source of model uncertainty is embedded within the model itself, which we can call ‘intra-model variability’. Although a single climate model may be developed with the same initial information to begin with, the complex nature of how the model generates outputs can lead to one set of results being different from the next. Therefore, as running several models to gain a more robust estimate is beneficial, it is also valuable to run a single climate model several times. 2. Scenario Uncertainty Models that forecast climate require estimates of future concentrations of GHGs from human sources. These future concentrations are not predictable from physical laws and must be estimated based on analyses of the social, political and economic factors that determine GHG emissions and land-use changes. Projecting levels of future GHG emissions requires a set of assumptions about emerging socio-economic circumstances, including: changes in population, economic productivity, energy use, land use, and technology. Since these circumstances can change dramatically and unpredictably, GHG-emission scenarios span a large range. A consistent set of assumptions about changes in land use and GHG emissions allows for comparable runs of climate models. 3. Internal Variability The third source of uncertainty is the climatic variability that emerges in response to interactions and feedback among internal components of the climate system itself. In many parts of the world, including western Canada, short-term climate variability is linked to the El Niño Southern Oscillation. Other internal variability is the result of the chaotic behaviour of the climate system. Internal climatic variability (ICV) is distinct from the external natural variability that originates outside the climate system. Most of this natural external forcing is the influence of volcanic activity and fluctuations in inputs of solar energy. ICV can be observed at the global scale but is most apparent at the regional scale. It matters most in the short term (i.e., weather to seasonal scales). On the other hand, it becomes less relevant for longer timescales (decades to centuries), as the climate evolves away from the initial conditions and as model and scenario uncertainty become more important factors. How do we deal with uncertainty? The good news is that understanding uncertainty in climate modelling ensures that a wide variety of risks are accounted for, which leads to better adaptation outcomes. To make sure you are managing uncertainty in your climate models and decision-making to the best of your ability, here are some tips: Use the most applicable and relevant climate data in terms of scale, variables, statistics, time horizon, resolution, or amount of data. Develop adaptation plans for a range of climate changes. A scenario approach supports adaptation planning for multiple outcomes by comparing how well each solution performs under different future conditions. Assess sensitivity and risk: Where is the system vulnerable? What are the critical climate thresholds? Consider how other types of uncertainty (e.g., economic) are managed. How much uncertainty and risk can be tolerated? Communicate uncertainties and assumptions and avoid potential misunderstandings in the transfer of information to stakeholders and among domains of expertise and communities of practice. Use climate information from multiple sources: weather observations, proxies (paleoclimate), model simulations, expert judgement, and traditional and local knowledge. To learn more about uncertainty, check out the Uncertainty Primer and Abstract . Or read the in-depth Technical Report here . If you have questions about uncertainty, climate modelling or where to get the best climate data and information for your community, reach out to our Help Desk by calling 204-995-6514 or email us at info@climatewest.ca . You can also check out our publications page for resources that might be relevant to you. Sign-up for newsletters from ClimateWest. E-mail First Name Last Name City Where you work or study, as applicable Leave this field empty if you're human: Contact X - Opens in a new window Youtube - Opens in a new window Linkedin - Opens in a new window 204-995-6514 info@climatewest.ca Site About Get Started Sectors Publications Help Desk Privacy Policy Our Photos © ClimateWest 2024. All rights reserved. Website Design + Development by Massive Media - Opens in a new window .\""
      ]
     },
     "execution_count": 2,
     "metadata": {},
     "output_type": "execute_result"
    }
   ],
   "source": [
    "import requests\n",
    "from bs4 import BeautifulSoup\n",
    "\n",
    "# Function to get all text content from a URL\n",
    "def get_text_content(this_URL):\n",
    "    url = this_URL\n",
    "    # Get HTML content\n",
    "    response = requests.get(url)\n",
    "    html_content = response.text\n",
    "    soup = BeautifulSoup(html_content, 'html.parser')\n",
    "    \n",
    "    # Extract all text content\n",
    "    text_content = soup.get_text(separator=' ', strip=True)\n",
    "    \n",
    "    return text_content\n",
    "\n",
    "# Example usage\n",
    "url = 'https://climatewest.ca/2022/09/27/uncertainty-101-understanding-climate-models/'\n",
    "text_content = get_text_content(url)\n",
    "print(text_content)\n"
   ]
  },
  {
   "cell_type": "code",
   "execution_count": 4,
   "metadata": {},
   "outputs": [
    {
     "name": "stdout",
     "output_type": "stream",
     "text": [
      "[Skip to content](#main-content) [](https://climatewest.ca) ** [About](https://climatewest.ca/about/) About ClimateWest Our People Careers Get Started Sectors [Resources](https://climatewest.ca/publications/) Publications Climate Portals News & Articles Adaptation in Action Program Services [Training](https://climatewest.ca/training/) Alberta Saskatchewan Manitoba [Events](https://climatewest.ca/events/) Upcoming Events Event Recordings Help Desk 204-995-6514 info@climatewest.ca [Twitter - Opens in a new window](https://twitter.com/climatewest_ca)[Linkedin - Opens in a new window](https://www.linkedin.com/company/climatewest) 27 Sep, 2022Uncertainty 101: Understanding and Managing Climate Models Share [Share on Facebook - Opens in a new window](http://www.facebook.com/sharer.php?u=https://climatewest.ca/2022/09/27/uncertainty-101-understanding-climate-models/) [Share on Twitter - Opens in a new window](https://twitter.com/share?url=https://climatewest.ca/2022/09/27/uncertainty-101-understanding-climate-models/) Share on LinkedIn - Opens in a new window Numerical modelling of the earth’s climate, achieved through what we know as climate models, is the only reliable way to determine the amount of global warming we can expect. Climate models—computer programs that simulate weather patterns over time—can help us understand and measure climate trends due to human activity over decades under different conditions. While these models are incredible sources of data and instrumental in helping us prepare for future climate risks, all climate models have a level of uncertainty. Manitoba, Saskatchewan, and Alberta present unique challenges for detecting and communicating climate change as well as managing uncertainty. Those living across the Prairies know that variability is a part of life and have been adapting to the shifts in weather between seasons for generations—**but the Prairies are also one of the fastest warming regions in Canada due to human-caused climate change**. Coinciding with this challenge, climate projections of precipitation and related variables at a regional scale are the least certain for middle latitudes and continental interiors like the Canadian Prairies. In these regions, natural variability tends to obscure trends in climate variables – like temperature, relative humidity, precipitation, wind, waves and tides – meaning that it’s more difficult to determine future changes and risks. **To help navigate these challenges, we’ve released the****[Uncertainty Primer](https://climatewest.ca/publications/uncertainty-in-climate-change-data-primer/):****a guide to the different types of uncertainty and how they can be managed.**Recognizing, understanding, and accounting for uncertainty can inform robust adaptation and decision-making, and help prepare for the future. Figure 1: Minimum winter temperature (°C) at Regina from 1951 to 2096 from 24 Global Climate Models (GCMs). Each coloured line represents output from a different GCMs. The bold black curve is the multi-model mean value.Source: Climate Atlas of Canada.What is uncertainty in climate modelling? Using models to predict the climate requires estimates of future concentrations of greenhouse gases (GHGs) based on analyses of the social, political, and economic factors that determine emissions and land use change. However, models, emissions scenarios, and internal climate variability can cause varying amounts of uncertainty depending on the size and location of the region, the climate variable, and the timeline. These factors encompass the term, “uncertainty” when looking at climate modelling—however to better understand uncertainty, it’s helpful to examine each type individually. The Types of Uncertainty There are three types of uncertainty: model uncertainty, scenario uncertainty, and internal variability. 1. Model Uncertainty The uncertainty seen in climate modelling stems from two main sources: inter-model variability and intra-model variability. Inter-model variability includes the many different global climate models (GCMs) developed to project future climate scenarios, each yielding unique projections based on their assumptions when provided with the same initial conditions, such as air pressure and temperature. As a number of GCMs are often used—up to a dozen, depending on the application—and compared, an inter-model average is established to reduce “noise” and/or better communicate the results. See Figure 1, for example. The second source of model uncertainty is embedded within the model itself, which we can call ‘intra-model variability’. Although a single climate model may be developed with the same initial information to begin with, the complex nature of how the model generates outputs can lead to one set of results being different from the next. Therefore, as running several models to gain a more robust estimate is beneficial, it is also valuable to run a single climate model several times. 2. Scenario Uncertainty Models that forecast climate require estimates of future concentrations of GHGs from human sources. These future concentrations are not predictable from physical laws and must be estimated based on analyses of the social, political and economic factors that determine GHG emissions and land-use changes. Projecting levels of future GHG emissions requires a set of assumptions about emerging socio-economic circumstances, including: changes in population, economic productivity, energy use, land use, and technology. Since these circumstances can change dramatically and unpredictably, GHG-emission scenarios span a large range. A consistent set of assumptions about changes in land use and GHG emissions allows for comparable runs of climate models. 3. Internal Variability The third source of uncertainty is the climatic variability that emerges in response to interactions and feedback among internal components of the climate system itself. In many parts of the world, including western Canada, short-term climate variability is linked to the El Niño Southern Oscillation. Other internal variability is the result of the chaotic behaviour of the climate system. Internal climatic variability (ICV) is distinct from the external natural variability that originates outside the climate system. Most of this natural external forcing is the influence of volcanic activity and fluctuations in inputs of solar energy. ICV can be observed at the global scale but is most apparent at the regional scale. It matters most in the short term (i.e., weather to seasonal scales). On the other hand, it becomes less relevant for longer timescales (decades to centuries), as the climate evolves away from the initial conditions and as model and scenario uncertainty become more important factors.How do we deal with uncertainty? The good news is that understanding uncertainty in climate modelling ensures that a wide variety of risks are accounted for, which leads to better adaptation outcomes. To make sure you are managing uncertainty in your climate models and decision-making to the best of your ability, here are some tips: Use the most applicable and relevant climate data in terms of scale, variables, statistics, time horizon, resolution, or amount of data. Develop adaptation plans for a range of climate changes. A scenario approach supports adaptation planning for multiple outcomes by comparing how well each solution performs under different future conditions. Assess sensitivity and risk: Where is the system vulnerable? What are the critical climate thresholds? Consider how other types of uncertainty (e.g., economic) are managed. How much uncertainty and risk can be tolerated? Communicate uncertainties and assumptions and avoid potential misunderstandings in the transfer of information to stakeholders and among domains of expertise and communities of practice. Use climate information from multiple sources: weather observations, proxies (paleoclimate), model simulations, expert judgement, and traditional and local knowledge. **To learn more about uncertainty, check out the[Uncertainty Primer](https://climatewest.ca/publications/uncertainty-in-climate-change-data-primer/)and[Abstract](https://climatewest.ca/publications/uncertainty-primer/).** **Or read the in-depth Technical Report[here](https://data.parc.ca/uncertainty-primer/).** If you have questions about uncertainty, climate modelling or where to get the best climate data and information for your community, reach out to our Help Desk by calling 204-995-6514 or email us at[info@climatewest.ca](mailto:info@climatewest.ca). You can also check out our publications page for resources that might be relevant to you. Sign-up for newsletters from ClimateWest.(function() { window.mc4wp = window.mc4wp || { listeners: [], forms: { on: function(evt, cb) { window.mc4wp.listeners.push( { event : evt, callback: cb } ); } } } })();Mailchimp for WordPress v4.9.13 - https://wordpress.org/plugins/mailchimp-for-wp/ E-mail First Name Last Name City Where you work or study, as applicable Leave this field empty if you're human: / Mailchimp for WordPress Plugin [](https://climatewest.ca) Contact [X - Opens in a new window](https://twitter.com/climatewest_ca)[Youtube - Opens in a new window](https://www.youtube.com/channel/UC0LtP88g_vTwcEI3uQo9LTw?reload=9&view_as=subscriber)[Linkedin - Opens in a new window](https://www.linkedin.com/company/climatewest) 204-995-6514 info@climatewest.ca Site About Get Started Sectors Publications Help Desk Privacy Policy Our Photos © ClimateWest 2024. All rights reserved. [Website Design + Development by Massive Media - Opens in a new window](https://engagemassive.com/). (function() {function maybePrefixUrlField () { const value = this.value.trim() if (value !== '' && value.indexOf('http') !== 0) { this.value = 'http://' + value } } const urlFields = document.querySelectorAll('.mc4wp-form input[type=\"url\"]') for (let j = 0; j < urlFields.length; j++) { urlFields[j].addEventListener('blur', maybePrefixUrlField) } })();GTM Container placement set to footerGoogle Tag Manager (noscript)End Google Tag Manager (noscript)jQuery(function($) { var mafs = $(\"#ajax-filter-search\"); var mafsForm = mafs.find(\"form\"); var ajaxFunction = function(fromdate, todate, paged) { if (mafsForm.find(\"#search\").val()) { var search = mafsForm.find(\"#search\").val(); } if (mafsForm.find(\"#datepicker\").val()) { fromdate = mafsForm.find(\"#datepicker\").val(); } else { fromdate = ''; } if (mafsForm.find(\"#datepicker2alt\").val()) { todate = mafsForm.find(\"#datepicker2alt\").val(); } var checkedsubject = []; $(\"input[type='checkbox']:checked\").each(function() { var checkedsubject_id = $(this).attr('name'); checkedsubject.push(checkedsubject_id); }); var data = { action: \"ajax_filter_search\", search: search, fromdate: fromdate, todate: todate, checkedsubject: checkedsubject, paged: paged }; $.ajax({ url: 'https://climatewest.ca/wp-admin/admin-ajax.php', data: data, success: function(response) { mafs.find(\"ul\").empty(); if (response) { $('#publications').html(response); } else { $('#publications').html('<h3>No Publications Found</h3>'); } } }); }; mafsForm.submit(function(e) { e.preventDefault(); ajaxFunction(); }); var oldest_post_date = \"2009-07-08\"; var date = new Date(oldest_post_date); var oldest_year = date.getUTCFullYear(); var oldest_post_date_utc = new Date(date.setHours(date.getHours() + date.getTimezoneOffset() / 60)); var datePickerFunction = function(e) { alt = e + \"alt\"; $(e).datepicker({ altField: alt, dateFormat: \"M yy\", altFormat: \"MM dd, yy\", changeMonth: false, changeYear: false, yearRange: oldest_year + \":+0\", showButtonPanel: true, closeText: \"Select Date\", constrainInput: false, showOn: 'both', buttonText: '<span class=\"sr-only\">Launch Date Picker</span><i class=\"ion-calendar\"></i>', onClose: function(dateText, inst) { function isDonePressed() { return ($('#ui-datepicker-div').html().indexOf('ui-datepicker-close ui-state-default ui-priority-primary ui-corner-all ui-state-hover') > -1); } if (isDonePressed()) { if (e === \"#datepicker2\") { $(this).datepicker('setDate', new Date(inst.selectedYear, inst.selectedMonth + 1, 1 - 1)); } else { $(this).datepicker('setDate', new Date(inst.selectedYear, inst.selectedMonth, 1)); } date2 = $(this).val(); altdate2 = $(\"#datepicker2alt\").val(); ajaxFunction('', altdate2, ''); $(this).focusout(); } $('.ui-datepicker-trigger').html('<span class=\"sr-only\">Launch Date Picker</span><i class=\"ion-calendar\"></i>'); }, beforeShow: function(input, inst) { if (($(this).val()).length > 0) { console.log('before show'); $(this).datepicker('option', 'defaultDate', new Date(inst.selectedYear, inst.selectedMonth + 1, 1 - 1)); year = $(this).val(); altyear = $(\"#datepicker2alt\").val(); $(\".ui-datepicker-calendar\").hide(); } $('.ui-datepicker-trigger').html('<span class=\"sr-only\">Launch Date Picker</span><i class=\"ion-calendar\"></i>'); } }); $('.ui-datepicker-trigger').html('<span class=\"sr-only\">Launch Date Picker</span><i class=\"ion-calendar\"></i>'); }; datePickerFunction(\"#datepicker\"); $(\"#datepicker\").datepicker('setDate', oldest_post_date_utc).on(\"keyup change\", function() { var date = $(this).val(); $(this).datepicker(\"hide\"); if (date.length > 7) { ajaxFunction(date, '', ''); } }); datePickerFunction(\"#datepicker2\"); $(\"#datepicker2\").datepicker('setDate', new Date()).on(\"keyup change\", function() { $(this).datepicker(\"hide\"); datestr = $(this).val(); year = datestr.substring(datestr.length - 4, datestr.length); month = datestr.substring(0, 3); if (datestr.length > 7) { //$(this).datepicker('setDate', new Date(year, month + 1, 1 - 1)); lastdate = month + ' 31, ' + year; date2 = $(\"#datepicker2alt\").val(lastdate); ajaxFunction('', date2, ''); } }); $('input[type=\"checkbox\"]').click(ajaxFunction); $('.reset').click(function() { $(\"form\")[0].reset(); $(\"#datepicker\").datepicker('setDate', oldest_post_date_utc); $(\"#datepicker2\").datepicker('setDate', new Date()); ajaxFunction(); }); $('#publications').on('click', '.pagination a', function(e) { e.preventDefault(); if ($(this).hasClass('prev') || $(this).hasClass('next')) { paginateNum = $(this).find('.prev-next').data('attr'); ajaxFunction('', '', paginateNum); } else { paginateNum = $(this).text(); ajaxFunction('', '', paginateNum); } $(\"html, body\").animate({scrollTop: 0}, \"slow\"); }); });/* <![CDATA[ */ var wpcf7 = {\"api\":{\"root\":\"https:\\/\\/climatewest.ca\\/wp-json\\/\",\"namespace\":\"contact-form-7\\/v1\"}}; /* ]]> *//* <![CDATA[ */ jQuery(function(jQuery){jQuery.datepicker.setDefaults({\"closeText\":\"Close\",\"currentText\":\"Today\",\"monthNames\":[\"January\",\"February\",\"March\",\"April\",\"May\",\"June\",\"July\",\"August\",\"September\",\"October\",\"November\",\"December\"],\"monthNamesShort\":[\"Jan\",\"Feb\",\"Mar\",\"Apr\",\"May\",\"Jun\",\"Jul\",\"Aug\",\"Sep\",\"Oct\",\"Nov\",\"Dec\"],\"nextText\":\"Next\",\"prevText\":\"Previous\",\"dayNames\":[\"Sunday\",\"Monday\",\"Tuesday\",\"Wednesday\",\"Thursday\",\"Friday\",\"Saturday\"],\"dayNamesShort\":[\"Sun\",\"Mon\",\"Tue\",\"Wed\",\"Thu\",\"Fri\",\"Sat\"],\"dayNamesMin\":[\"S\",\"M\",\"T\",\"W\",\"T\",\"F\",\"S\"],\"dateFormat\":\"MM d, yy\",\"firstDay\":0,\"isRTL\":false});}); /* ]]> */\n"
     ]
    }
   ],
   "source": [
    "import requests\n",
    "from bs4 import BeautifulSoup\n",
    "\n",
    "# Function to get formatted text content from a URL\n",
    "def get_formatted_text_content(this_URL):\n",
    "    url = this_URL\n",
    "    # Get HTML content\n",
    "    response = requests.get(url)\n",
    "    html_content = response.text\n",
    "    soup = BeautifulSoup(html_content, 'html.parser')\n",
    "\n",
    "    # Function to recursively extract text with formatting\n",
    "    def extract_text_with_formatting(element):\n",
    "        text = \"\"\n",
    "        if element.name in ['p', 'div', 'li']:\n",
    "            text += \"\\n\\n\"  # Add extra newline for paragraphs and list items\n",
    "\n",
    "        if element.name in ['b', 'strong']:\n",
    "            text += \"**\"  # Markdown-style bold start\n",
    "\n",
    "        if element.name in ['i', 'em']:\n",
    "            text += \"*\"  # Markdown-style italic start\n",
    "\n",
    "        if element.name == 'a' and 'href' in element.attrs:\n",
    "            text += f\"[{element.get_text()}]({element['href']})\"  # Markdown-style link\n",
    "        else:\n",
    "            if element.string:\n",
    "                text += element.string.strip()\n",
    "            else:\n",
    "                for child in element.children:\n",
    "                    text += extract_text_with_formatting(child)\n",
    "\n",
    "        if element.name in ['b', 'strong']:\n",
    "            text += \"**\"  # Markdown-style bold end\n",
    "\n",
    "        if element.name in ['i', 'em']:\n",
    "            text += \"*\"  # Markdown-style italic end\n",
    "\n",
    "        if element.name == 'br':\n",
    "            text += \"\\n\"  # Line break\n",
    "\n",
    "        return text\n",
    "\n",
    "    # Start with the body content\n",
    "    body = soup.find('body')\n",
    "    formatted_text_content = extract_text_with_formatting(body) if body else ''\n",
    "\n",
    "    # Normalize spaces and newlines\n",
    "    formatted_text_content = ' '.join(formatted_text_content.split())\n",
    "    formatted_text_content = formatted_text_content.replace(\"\\n \", \"\\n\")\n",
    "    formatted_text_content = formatted_text_content.replace(\" \\n\", \"\\n\")\n",
    "    formatted_text_content = formatted_text_content.replace(\"\\n\\n\\n\", \"\\n\\n\")\n",
    "\n",
    "    return formatted_text_content.strip()\n",
    "\n",
    "# Example usage\n",
    "url = 'https://climatewest.ca/2022/09/27/uncertainty-101-understanding-climate-models/'\n",
    "formatted_text_content = get_formatted_text_content(url)\n",
    "print(formatted_text_content)\n"
   ]
  }
 ],
 "metadata": {
  "kernelspec": {
   "display_name": "plot_M2",
   "language": "python",
   "name": "python3"
  },
  "language_info": {
   "codemirror_mode": {
    "name": "ipython",
    "version": 3
   },
   "file_extension": ".py",
   "mimetype": "text/x-python",
   "name": "python",
   "nbconvert_exporter": "python",
   "pygments_lexer": "ipython3",
   "version": "3.9.18"
  }
 },
 "nbformat": 4,
 "nbformat_minor": 2
}
