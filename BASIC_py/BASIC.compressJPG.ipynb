{
 "cells": [
  {
   "cell_type": "code",
   "execution_count": 2,
   "metadata": {},
   "outputs": [],
   "source": [
    "from PIL import Image\n",
    "\n",
    "def compress_image(input_path, output_path, quality):\n",
    "    # Open the image file\n",
    "    img = Image.open(input_path)\n",
    "    \n",
    "    # Save the image with a specific quality value (1 to 100)\n",
    "    img.save(output_path, \"JPEG\", quality=quality)\n"
   ]
  },
  {
   "cell_type": "code",
   "execution_count": null,
   "metadata": {},
   "outputs": [],
   "source": [
    "# Example usage\n",
    "input_image = path = \"file_name_input.jpg\"\n",
    "output_image = \"file_name_output.jpg\"\n",
    "compress_image(input_image, output_image, quality=30)  # Quality can be set from 1 (worst) to 100 (best)"
   ]
  }
 ],
 "metadata": {
  "kernelspec": {
   "display_name": "plot_M2",
   "language": "python",
   "name": "python3"
  },
  "language_info": {
   "codemirror_mode": {
    "name": "ipython",
    "version": 3
   },
   "file_extension": ".py",
   "mimetype": "text/x-python",
   "name": "python",
   "nbconvert_exporter": "python",
   "pygments_lexer": "ipython3",
   "version": "3.9.18"
  }
 },
 "nbformat": 4,
 "nbformat_minor": 2
}
